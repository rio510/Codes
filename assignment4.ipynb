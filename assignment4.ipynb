{
 "cells": [
  {
   "cell_type": "code",
   "execution_count": 42,
   "metadata": {},
   "outputs": [
    {
     "name": "stdout",
     "output_type": "stream",
     "text": [
      "The area of the triangle is: (2.3880515665892825e-16+3.8999841721742743j)\n"
     ]
    }
   ],
   "source": [
    "#solution 1.1\n",
    "class Triangles():\n",
    "\n",
    "    def __init__(self, a, b, c):\n",
    "        self.a = a\n",
    "        self.b = b\n",
    "        self.c = c\n",
    "        self.s = (self.a+self.b+self.c) /3.0\n",
    "\n",
    "\n",
    "class Areatri(Triangles):\n",
    "    def findArea(self):\n",
    "        area = (self.s*(self.s-self.a)*(self.s-self.b)*(self.s-self.c))**0.5   \n",
    "        print(\"The area of the triangle is: {}\".format(area))\n",
    "\n",
    "\n",
    "    p = Areatri(7,5,10)\n",
    "    p.findArea()"
   ]
  },
  {
   "cell_type": "code",
   "execution_count": 14,
   "metadata": {},
   "outputs": [
    {
     "name": "stdout",
     "output_type": "stream",
     "text": [
      "['hwwwk083', 'dhwuiwk', 'hujwj86']\n"
     ]
    }
   ],
   "source": [
    "#solution 1.2\n",
    "def filter_long_words(l,n):\n",
    "    m = []\n",
    "    for i in l:\n",
    "        if len(i) > n:\n",
    "            m.append(i)\n",
    "    print(m)\n",
    "    \n",
    "l=['abcvgh','hwwwk083','dhwuiwk','bceiwm','dhjw','hujwj86']\n",
    "\n",
    "\n",
    "filter_long_words(l,6)\n",
    "\n",
    "    \n",
    "\n"
   ]
  },
  {
   "cell_type": "code",
   "execution_count": 16,
   "metadata": {},
   "outputs": [
    {
     "name": "stdout",
     "output_type": "stream",
     "text": [
      "[6, 8, 7, 6, 4, 7]\n"
     ]
    }
   ],
   "source": [
    "#solution 2.1\n",
    "def words_length(l):\n",
    "    m=[]\n",
    "    for i in l:\n",
    "        m.append(len(i))\n",
    "    print(m)\n",
    "    \n",
    "l=['abcvgh','hwwwk083','dhwuiwk','bceiwm','dhjw','hujwj86']\n",
    "words_length(l)\n",
    "    \n",
    "\n"
   ]
  },
  {
   "cell_type": "code",
   "execution_count": 20,
   "metadata": {},
   "outputs": [
    {
     "data": {
      "text/plain": [
       "False"
      ]
     },
     "execution_count": 20,
     "metadata": {},
     "output_type": "execute_result"
    }
   ],
   "source": [
    "#solution 2.2\n",
    "def vowel_count(s):\n",
    "    if s in ('a','e','i','o','u'):\n",
    "        return True\n",
    "    else:\n",
    "        return False\n",
    "    \n",
    "vowel_count('j')"
   ]
  },
  {
   "cell_type": "code",
   "execution_count": null,
   "metadata": {},
   "outputs": [],
   "source": []
  }
 ],
 "metadata": {
  "kernelspec": {
   "display_name": "Python 3",
   "language": "python",
   "name": "python3"
  },
  "language_info": {
   "codemirror_mode": {
    "name": "ipython",
    "version": 3
   },
   "file_extension": ".py",
   "mimetype": "text/x-python",
   "name": "python",
   "nbconvert_exporter": "python",
   "pygments_lexer": "ipython3",
   "version": "3.7.1"
  }
 },
 "nbformat": 4,
 "nbformat_minor": 2
}
